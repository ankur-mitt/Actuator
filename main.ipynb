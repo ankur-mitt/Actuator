{
 "cells": [
  {
   "cell_type": "code",
   "execution_count": 1,
   "metadata": {
    "pycharm": {
     "is_executing": true,
     "name": "#%%\n"
    }
   },
   "outputs": [],
   "source": [
    "import matplotlib.pyplot as plt\n",
    "import numpy as np\n",
    "import pandas as pd\n",
    "import torch\n",
    "from sklearn.model_selection import train_test_split\n",
    "\n",
    "from consts import Columns\n",
    "from data_processing import plot_curves, process_dataset\n",
    "from machine_learning import NeuralNetwork"
   ]
  },
  {
   "cell_type": "code",
   "execution_count": null,
   "outputs": [],
   "source": [
    "plt.style.use('ggplot')\n",
    "# plt.style.available"
   ],
   "metadata": {
    "collapsed": false,
    "pycharm": {
     "name": "#%%\n"
    }
   }
  },
  {
   "cell_type": "code",
   "execution_count": null,
   "outputs": [],
   "source": [
    "processed_dataset: pd.DataFrame = process_dataset()\n",
    "processed_dataset.reset_index(drop=True, inplace=True)\n",
    "processed_dataset"
   ],
   "metadata": {
    "collapsed": false,
    "pycharm": {
     "name": "#%%\n"
    }
   }
  },
  {
   "cell_type": "code",
   "execution_count": null,
   "outputs": [],
   "source": [
    "plot_curves(processed_dataset, 0)\n",
    "plot_curves(processed_dataset, 1)"
   ],
   "metadata": {
    "collapsed": false,
    "pycharm": {
     "name": "#%%\n"
    }
   }
  },
  {
   "cell_type": "code",
   "execution_count": null,
   "outputs": [],
   "source": [
    "processed_dataset[\"_outlier\"] = processed_dataset.apply(\n",
    "    lambda entry: entry[Columns.OUTPUT_VECTOR][0] / 800 + entry[Columns.OUTPUT_VECTOR][1] / 200 <= 1,\n",
    "    axis=1,\n",
    ")\n",
    "outliers = processed_dataset[processed_dataset[\"_outlier\"] == True]\n",
    "outliers"
   ],
   "metadata": {
    "collapsed": false,
    "pycharm": {
     "name": "#%%\n"
    }
   }
  },
  {
   "cell_type": "code",
   "execution_count": null,
   "outputs": [],
   "source": [
    "plot_curves(outliers, 0)\n",
    "plot_curves(outliers, 1)"
   ],
   "metadata": {
    "collapsed": false,
    "pycharm": {
     "name": "#%%\n"
    }
   }
  },
  {
   "cell_type": "code",
   "execution_count": null,
   "outputs": [],
   "source": [
    "final_dataset = processed_dataset[processed_dataset[\"_outlier\"] == False]\n",
    "final_dataset.reset_index(drop=True, inplace=True)\n",
    "final_dataset"
   ],
   "metadata": {
    "collapsed": false,
    "pycharm": {
     "name": "#%%\n"
    }
   }
  },
  {
   "cell_type": "code",
   "execution_count": null,
   "outputs": [],
   "source": [
    "plot_curves(final_dataset, 0)\n",
    "plot_curves(final_dataset, 1)"
   ],
   "metadata": {
    "collapsed": false,
    "pycharm": {
     "name": "#%%\n"
    }
   }
  },
  {
   "cell_type": "code",
   "execution_count": null,
   "outputs": [],
   "source": [
    "x_datapoints = torch.tensor(final_dataset.apply(lambda entry: [\n",
    "    # feature scaling to increase input features size/count\n",
    "    # (entry[Columns.OUTPUT_VECTOR][0] ** pow_x) * (entry[Columns.OUTPUT_VECTOR][1] ** pow_y)\n",
    "    # for pow_x in range(0, 5) for pow_y in range(0, 5)\n",
    "    entry[Columns.INPUT_VECTOR][0],\n",
    "    entry[Columns.INPUT_VECTOR][1],\n",
    "], axis=1).tolist(), dtype=torch.float)\n",
    "x_datapoints"
   ],
   "metadata": {
    "collapsed": false,
    "pycharm": {
     "name": "#%%\n"
    }
   }
  },
  {
   "cell_type": "code",
   "execution_count": null,
   "outputs": [],
   "source": [
    "y_datapoints = torch.tensor(final_dataset.apply(lambda entry: [\n",
    "    entry[Columns.OUTPUT_VECTOR][0],\n",
    "    entry[Columns.OUTPUT_VECTOR][1],\n",
    "], axis=1).tolist(), dtype=torch.float)\n",
    "y_datapoints"
   ],
   "metadata": {
    "collapsed": false,
    "pycharm": {
     "name": "#%%\n"
    }
   }
  },
  {
   "cell_type": "code",
   "execution_count": null,
   "outputs": [],
   "source": [
    "x_train, x_test, y_train, y_test = train_test_split(x_datapoints, y_datapoints, test_size=0.05, random_state=0)"
   ],
   "metadata": {
    "collapsed": false,
    "pycharm": {
     "name": "#%%\n"
    }
   }
  },
  {
   "cell_type": "code",
   "execution_count": null,
   "outputs": [],
   "source": [
    "# remove the following comment to train the deep model\n",
    "# train_model(x_train, y_train, save_as=\"model.pth\")"
   ],
   "metadata": {
    "collapsed": false,
    "pycharm": {
     "name": "#%%\n"
    }
   }
  },
  {
   "cell_type": "code",
   "execution_count": null,
   "outputs": [],
   "source": [
    "model = NeuralNetwork()\n",
    "model.load_state_dict(torch.load(\"model.pth\"))\n",
    "\n",
    "# accuracy values for different values of max distance allowed, that is, based to closeness\n",
    "# for max_distance in np.linspace(0.01 * LinearScales.ScaleLength, 0.10 * LinearScales.ScaleLength, 10):\n",
    "#     accuracy = calculate_accuracy(model, x_train, y_train, max_distance)\n",
    "#     print(f\"Max. Distance = {max_distance:.2f}, Accuracy = {accuracy:.2f}%\")"
   ],
   "metadata": {
    "collapsed": false,
    "pycharm": {
     "name": "#%%\n"
    }
   }
  },
  {
   "cell_type": "code",
   "execution_count": null,
   "outputs": [],
   "source": [
    "from torchmetrics.functional import mean_absolute_percentage_error\n",
    "\n",
    "# calculating train accuracy\n",
    "scores = model(x_train)\n",
    "error_train = np.mean(np.clip(np.array([\n",
    "    float(mean_absolute_percentage_error(scores[index], y_train[index])) * 100\n",
    "    for index in range(len(scores))\n",
    "]), 0, 100))\n",
    "print(\"Train error:\", error_train, \"%\")\n",
    "\n",
    "# calculating test accuracy\n",
    "scores = model(x_test)\n",
    "error_test = np.mean(np.clip(np.array([\n",
    "    float(mean_absolute_percentage_error(scores[index], y_test[index])) * 100\n",
    "    for index in range(len(scores))\n",
    "]), 0, 100))\n",
    "print(\"Test error:\", error_test, \"%\")"
   ],
   "metadata": {
    "collapsed": false,
    "pycharm": {
     "name": "#%%\n"
    }
   }
  },
  {
   "cell_type": "code",
   "execution_count": null,
   "outputs": [],
   "source": [
    "predicted = np.array(model(x_datapoints).tolist())\n",
    "predicted_dataset = final_dataset.copy()\n",
    "predicted_dataset[Columns.PREDICTED_X] = pd.Series(np.round(predicted[:, 0]))\n",
    "predicted_dataset[Columns.PREDICTED_Y] = pd.Series(np.round(predicted[:, 1]))\n",
    "# columns required to make the scatter plot of the points\n",
    "# predicted_dataset = predicted_dataset[[\n",
    "#     Columns.INPUT_X,\n",
    "#     Columns.INPUT_Y,\n",
    "#     Columns.OUTPUT_X,\n",
    "#     Columns.OUTPUT_Y,\n",
    "#     Columns.PREDICTED_X,\n",
    "#     Columns.PREDICTED_Y,\n",
    "# ]]\n",
    "predicted_dataset.to_csv(\"predicted_dataset.csv\", index=False)\n",
    "predicted_dataset"
   ],
   "metadata": {
    "collapsed": false,
    "pycharm": {
     "name": "#%%\n"
    }
   }
  },
  {
   "cell_type": "code",
   "execution_count": null,
   "outputs": [],
   "source": [
    "_predicted_dataset = predicted_dataset.copy()\n",
    "_predicted_dataset[Columns.OUTPUT_VECTOR] = _predicted_dataset.apply(lambda entry: np.array([\n",
    "    entry[Columns.PREDICTED_X],\n",
    "    entry[Columns.PREDICTED_Y],\n",
    "]), axis=1)\n",
    "\n",
    "plot_curves(_predicted_dataset, 0)\n",
    "plot_curves(_predicted_dataset, 1)"
   ],
   "metadata": {
    "collapsed": false,
    "pycharm": {
     "name": "#%%\n"
    }
   }
  },
  {
   "cell_type": "code",
   "execution_count": null,
   "outputs": [],
   "source": [
    "import matplotlib.pyplot as plt\n",
    "\n",
    "real_scores = np.array(y_test.tolist())\n",
    "predicted_scores = np.round(np.array(model(x_test).tolist()))\n",
    "\n",
    "plt.scatter(real_scores[:, 0], real_scores[:, 1], marker=\"o\", label=\"Real\")\n",
    "plt.scatter(predicted_scores[:, 0], predicted_scores[:, 1], marker=\"x\", label=\"Predicted\")\n",
    "plt.legend()\n",
    "plt.show()"
   ],
   "metadata": {
    "collapsed": false,
    "pycharm": {
     "name": "#%%\n"
    }
   }
  },
  {
   "cell_type": "code",
   "execution_count": null,
   "outputs": [],
   "source": [
    "test_dataset = pd.DataFrame()\n",
    "test_dataset[\"X_real\"] = real_scores[:, 0]\n",
    "test_dataset[\"Y_real\"] = real_scores[:, 1]\n",
    "test_dataset[\"X_predicted\"] = predicted_scores[:, 0]\n",
    "test_dataset[\"Y_predicted\"] = predicted_scores[:, 1]\n",
    "test_dataset"
   ],
   "metadata": {
    "collapsed": false,
    "pycharm": {
     "name": "#%%\n"
    }
   }
  },
  {
   "cell_type": "code",
   "execution_count": null,
   "outputs": [],
   "source": [
    "x_lookup = torch.tensor([\n",
    "    [l_pos, r_pos]\n",
    "    for l_pos in np.linspace(0, 2000, 201, dtype=int)\n",
    "    for r_pos in np.linspace(0, 500, 51, dtype=int)\n",
    "], dtype=torch.float)\n",
    "x_lookup"
   ],
   "metadata": {
    "collapsed": false,
    "pycharm": {
     "name": "#%%\n"
    }
   }
  },
  {
   "cell_type": "code",
   "execution_count": null,
   "outputs": [],
   "source": [
    "lookup_table = pd.DataFrame()\n",
    "lookup_table[Columns.INPUT_VECTOR] = pd.Series(x_lookup.tolist())\n",
    "# adding columns for plotting purpose\n",
    "lookup_table[Columns.INPUT_X] = lookup_table.apply(lambda entry: entry[Columns.INPUT_VECTOR][0], axis=1)\n",
    "lookup_table[Columns.INPUT_Y] = lookup_table.apply(lambda entry: entry[Columns.INPUT_VECTOR][1], axis=1)\n",
    "\n",
    "predicted = np.array(model(x_lookup).tolist())\n",
    "lookup_table[Columns.PREDICTED_X] = pd.Series(np.round(predicted[:, 0]))\n",
    "lookup_table[Columns.PREDICTED_Y] = pd.Series(np.round(predicted[:, 1]))\n",
    "# adding columns for plotting purpose\n",
    "lookup_table[Columns.OUTPUT_VECTOR] = lookup_table.apply(lambda entry: np.array([\n",
    "    entry[Columns.PREDICTED_X],\n",
    "    entry[Columns.PREDICTED_Y],\n",
    "]), axis=1)\n",
    "lookup_table.to_csv(\"lookup_table.csv\", index=False)\n",
    "lookup_table"
   ],
   "metadata": {
    "collapsed": false,
    "pycharm": {
     "name": "#%%\n"
    }
   }
  },
  {
   "cell_type": "code",
   "execution_count": null,
   "outputs": [],
   "source": [
    "plot_curves(lookup_table, key=0)\n",
    "plot_curves(lookup_table, key=1)"
   ],
   "metadata": {
    "collapsed": false,
    "pycharm": {
     "name": "#%%\n"
    }
   }
  },
  {
   "cell_type": "code",
   "execution_count": null,
   "outputs": [],
   "source": [
    "def search_position_vector(search_table: pd.DataFrame, position_vector: np.ndarray):\n",
    "    search_table[\"_dist\"] = search_table.apply(\n",
    "        lambda entry: np.linalg.norm(position_vector - entry[Columns.OUTPUT_VECTOR]),\n",
    "        axis=1,\n",
    "    )\n",
    "    index = search_table[\"_dist\"].idxmin()\n",
    "    return search_table[Columns.INPUT_VECTOR][index]"
   ],
   "metadata": {
    "collapsed": false,
    "pycharm": {
     "name": "#%%\n"
    }
   }
  },
  {
   "cell_type": "code",
   "execution_count": null,
   "outputs": [],
   "source": [
    "search_position_vector(lookup_table.copy(), np.array([600, 600]))"
   ],
   "metadata": {
    "collapsed": false,
    "pycharm": {
     "name": "#%%\n"
    }
   }
  },
  {
   "cell_type": "code",
   "execution_count": null,
   "outputs": [],
   "source": [
    "from scipy.spatial import KDTree\n",
    "\n",
    "lookup_tree = KDTree(np.array(model(x_lookup).tolist()))\n",
    "distance, index = lookup_tree.query([600, 600])\n",
    "x_lookup[index]"
   ],
   "metadata": {
    "collapsed": false,
    "pycharm": {
     "name": "#%%\n"
    }
   }
  },
  {
   "cell_type": "code",
   "execution_count": null,
   "outputs": [],
   "source": [
    "# _search_table = lookup_table.copy()\n",
    "motor_steps = [\n",
    "    # search_position_vector(_search_table, np.array([x_position, 800]))\n",
    "    x_lookup[lookup_tree.query([x_position, 800])[1]].tolist()\n",
    "    for x_position in np.linspace(100, 600, 101)\n",
    "]\n",
    "motor_steps"
   ],
   "metadata": {
    "collapsed": false,
    "pycharm": {
     "name": "#%%\n"
    }
   }
  },
  {
   "cell_type": "code",
   "execution_count": null,
   "outputs": [],
   "source": [
    "from motor_controller import connect_arduino\n",
    "import matplotlib.pyplot as plt\n",
    "from scipy.interpolate import UnivariateSpline\n",
    "\n",
    "l_controller, r_controller = connect_arduino()"
   ],
   "metadata": {
    "collapsed": false,
    "pycharm": {
     "name": "#%%\n"
    }
   }
  },
  {
   "cell_type": "code",
   "execution_count": null,
   "outputs": [],
   "source": [
    "motor_steps = np.array(motor_steps)\n",
    "indices = range(len(motor_steps))\n",
    "l_spline = UnivariateSpline(indices, motor_steps[:, 0], k=5, s=0.50)\n",
    "l_steps = l_spline(indices)\n",
    "r_spline = UnivariateSpline(indices, motor_steps[:, 1], k=5, s=0.50)\n",
    "r_steps = r_spline(indices)"
   ],
   "metadata": {
    "collapsed": false,
    "pycharm": {
     "name": "#%%\n"
    }
   }
  },
  {
   "cell_type": "code",
   "execution_count": null,
   "outputs": [],
   "source": [
    "plt.plot(indices, motor_steps[:, 0], label=\"L_actual\")\n",
    "# plt.plot(indices, l_steps, label=\"L_smoothed\")\n",
    "plt.plot(indices, motor_steps[:, 1], label=\"R_actual\")\n",
    "# plt.plot(indices, r_steps, label=\"R_smoothed\")\n",
    "plt.legend()\n",
    "plt.show()"
   ],
   "metadata": {
    "collapsed": false,
    "pycharm": {
     "name": "#%%\n"
    }
   }
  },
  {
   "cell_type": "code",
   "execution_count": null,
   "outputs": [],
   "source": [
    "plt.plot(motor_steps[:, 0], motor_steps[:, 1])\n",
    "plt.show()"
   ],
   "metadata": {
    "collapsed": false,
    "pycharm": {
     "name": "#%%\n"
    }
   }
  },
  {
   "cell_type": "code",
   "execution_count": null,
   "outputs": [],
   "source": [
    "# from time import sleep\n",
    "\n",
    "for index, (l_step, r_step) in enumerate(motor_steps):\n",
    "    # l_step, r_step = l_steps[index], r_steps[index]\n",
    "\n",
    "    l_controller.set_position(l_step)\n",
    "    assert l_controller.get_position() == l_step\n",
    "\n",
    "    r_controller.set_position(-r_step)\n",
    "    assert r_controller.get_position() == -r_step\n",
    "\n",
    "    # sleep(0.1)\n",
    "\n",
    "r_controller.set_position(0), l_controller.set_position(0)"
   ],
   "metadata": {
    "collapsed": false,
    "pycharm": {
     "name": "#%%\n"
    }
   }
  },
  {
   "cell_type": "code",
   "execution_count": null,
   "outputs": [],
   "source": [
    "from pygad import pygad\n",
    "\n",
    "\n",
    "def get_input_next(target: torch.Tensor, previous_solution: np.ndarray = np.array([0, 0])):\n",
    "    # define the fitness function according to the euclidean distance\n",
    "    def calculate_fitness(_ga_instance, current_solution, _solution_index):\n",
    "        motor_input = np.array(current_solution, dtype=int)\n",
    "        score = model(torch.tensor(motor_input, dtype=torch.float))\n",
    "        error = mean_absolute_percentage_error(score, target)\n",
    "        fitness = 1 / error\n",
    "        return float(fitness)\n",
    "\n",
    "    # create a genetic algorithm instance to search for the solution\n",
    "    ga_instance = pygad.GA(\n",
    "        num_generations=75,\n",
    "        num_parents_mating=8,\n",
    "        fitness_func=calculate_fitness,\n",
    "        sol_per_pop=25,\n",
    "        num_genes=2,\n",
    "        keep_parents=1,\n",
    "        mutation_num_genes=1,\n",
    "        parallel_processing=4,\n",
    "        gene_space=[list(range(2001)), list(range(501))],\n",
    "        gene_type=[int, int],\n",
    "        initial_population=np.array([previous_solution for _ in range(8)], dtype=int),\n",
    "    )\n",
    "\n",
    "    # run the genetic algorithm creating the genetic pool from parents\n",
    "    ga_instance.run()\n",
    "\n",
    "    # return the best solution as the motor input\n",
    "    solution, solution_fitness, solution_index = ga_instance.best_solution()\n",
    "    return np.array(solution, dtype=int), f\"{round(100 / solution_fitness, 2)}%\"\n"
   ],
   "metadata": {
    "collapsed": false,
    "pycharm": {
     "name": "#%%\n"
    }
   }
  },
  {
   "cell_type": "code",
   "execution_count": null,
   "outputs": [],
   "source": [
    "start_from = np.array([0, 0])\n",
    "for x_position in np.linspace(100, 900, 161):\n",
    "    s, e = get_input_next(torch.tensor([x_position, 800], dtype=torch.float), previous_solution=start_from)\n",
    "    print(s, e)\n",
    "    r_controller.set_position(-s[1])\n",
    "    l_controller.set_position(s[0])\n",
    "    start_from = s  # next time start searching from the current position\n"
   ],
   "metadata": {
    "collapsed": false,
    "pycharm": {
     "name": "#%%\n"
    }
   }
  },
  {
   "cell_type": "code",
   "execution_count": null,
   "outputs": [],
   "source": [
    "l_controller.set_position(0), r_controller.set_position(0)"
   ],
   "metadata": {
    "collapsed": false,
    "pycharm": {
     "name": "#%%\n"
    }
   }
  },
  {
   "cell_type": "code",
   "execution_count": null,
   "outputs": [],
   "source": [
    "import math\n",
    "\n",
    "motor_steps = [\n",
    "    x_lookup[lookup_tree.query(np.array([350, 700]) + 100 * np.array([math.cos(theta), math.sin(theta)]))[1]].tolist()\n",
    "    for theta in np.linspace(-math.pi, math.pi, 361)\n",
    "]\n",
    "motor_steps"
   ],
   "metadata": {
    "collapsed": false,
    "pycharm": {
     "name": "#%%\n"
    }
   }
  },
  {
   "cell_type": "code",
   "execution_count": null,
   "outputs": [],
   "source": [
    "from scipy.interpolate import interp1d\n",
    "\n",
    "circle = np.array([\n",
    "    # np.array([350, 550]) + 100 * np.array([math.cos(theta), math.sin(theta)])\n",
    "    x_lookup[lookup_tree.query(np.array([350, 700]) + 100 * np.array([math.cos(theta), math.sin(theta)]))[1]].tolist()\n",
    "    for theta in np.linspace(-math.pi, math.pi, 361)\n",
    "])\n",
    "spline = interp1d(circle[:, 0], circle[:, 1])\n",
    "\n",
    "plt.plot(circle[:, 0], circle[:, 1], marker=\".\", color=\"blue\", label=\"Actual\")\n",
    "plt.plot(circle[:, 0], [spline(x) for x, y in circle], marker=\".\", color=\"green\", label=\"Smoothed\")\n",
    "plt.axis(\"square\")\n",
    "plt.legend()\n",
    "plt.show()"
   ],
   "metadata": {
    "collapsed": false,
    "pycharm": {
     "name": "#%%\n"
    }
   }
  },
  {
   "cell_type": "code",
   "execution_count": null,
   "outputs": [],
   "source": [
    "# from time import sleep\n",
    "\n",
    "for x, y in circle:\n",
    "    l_controller.set_position(x)\n",
    "    assert l_controller.get_position() == x\n",
    "\n",
    "    r_controller.set_position(-spline(x))\n",
    "    assert r_controller.get_position() == -spline(x)\n",
    "\n",
    "    # sleep(0.1)\n",
    "\n",
    "r_controller.set_position(0), l_controller.set_position(0)"
   ],
   "metadata": {
    "collapsed": false,
    "pycharm": {
     "name": "#%%\n"
    }
   }
  },
  {
   "cell_type": "code",
   "execution_count": null,
   "outputs": [],
   "source": [],
   "metadata": {
    "collapsed": false,
    "pycharm": {
     "name": "#%%\n"
    }
   }
  },
  {
   "cell_type": "code",
   "execution_count": null,
   "metadata": {},
   "outputs": [],
   "source": []
  }
 ],
 "metadata": {
  "kernelspec": {
   "display_name": "Python 3 (ipykernel)",
   "language": "python",
   "name": "python3"
  },
  "language_info": {
   "codemirror_mode": {
    "name": "ipython",
    "version": 3
   },
   "file_extension": ".py",
   "mimetype": "text/x-python",
   "name": "python",
   "nbconvert_exporter": "python",
   "pygments_lexer": "ipython3",
   "version": "3.9.10"
  }
 },
 "nbformat": 4,
 "nbformat_minor": 1
}